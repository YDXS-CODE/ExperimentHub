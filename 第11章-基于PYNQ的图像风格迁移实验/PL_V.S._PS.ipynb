{
 "cells": [
  {
   "cell_type": "code",
   "execution_count": null,
   "id": "a58bc3c4",
   "metadata": {},
   "outputs": [],
   "source": [
    "import time\n",
    "from pynq import Overlay\n",
    "import numpy as np\n",
    "# from pynq import Xlnk\n",
    "from pynq import allocate\n",
    "import struct\n",
    "from imageio import imread\n",
    "import cv2\n",
    "def RunConv(conv,Kx,Ky,Sx,Sy,mode,relu_en,feature_in,W,bias,feature_out):\n",
    "    write_time_s = time.time()\n",
    "    conv.write(0x10,feature_in.shape[2]);\n",
    "    conv.write(0x18,feature_in.shape[0]);\n",
    "    conv.write(0x20,feature_in.shape[1]);\n",
    "    conv.write(0x28,feature_out.shape[2]);\n",
    "    write_time_2 = time.time()\n",
    "    print(\"time 2\",write_time_2-write_time_s)\n",
    "    conv.write(0x30,Kx);\n",
    "    conv.write(0x38,Ky);\n",
    "    conv.write(0x40,Sx);\n",
    "    conv.write(0x48,Sy);\n",
    "    write_time_3 = time.time()\n",
    "    print(\"time 3\",write_time_3-write_time_2)\n",
    "    conv.write(0x50,mode);\n",
    "    conv.write(0x58,relu_en);\n",
    "    conv.write(0x60,feature_in.physical_address);\n",
    "    conv.write(0x68,W.physical_address);\n",
    "    write_time_4 = time.time()\n",
    "    print(\"time 4\",write_time_4-write_time_3)\n",
    "    conv.write(0x70,bias.physical_address);\n",
    "    conv.write(0x78,feature_out.physical_address);\n",
    "    conv.write(0, (conv.read(0)&0x80)|0x01 );\n",
    "    write_time_5 = time.time()\n",
    "    print(\"time 5\",write_time_5-write_time_4)\n",
    "    tp=conv.read(0)\n",
    "    print(tp);\n",
    "    \n",
    "    while not ((tp>>1)&0x1):\n",
    "        tp=conv.read(0);\n",
    "        print(tp);\n",
    "    write_time_6 = time.time()\n",
    "    print(\"time 6\",write_time_6-write_time_5)\n",
    "    #print(tp);\n",
    "\n"
   ]
  },
  {
   "cell_type": "code",
   "execution_count": 31,
   "id": "913ad75e",
   "metadata": {},
   "outputs": [],
   "source": [
    "import torch\n",
    "import torch.nn as nn\n",
    "i = 1\n",
    "x = torch.randn(1,3,32*i,32*i)\n",
    "# print(x[0,:,:])\n",
    "a = nn.ReflectionPad2d(padding=(3))\n",
    "b = a(x)"
   ]
  },
  {
   "cell_type": "code",
   "execution_count": null,
   "id": "e630f8e6",
   "metadata": {},
   "outputs": [],
   "source": [
    "ol=Overlay(\"/home/xilinx/jupyter_notebooks/mnist/ai.bit\")\n",
    "ol.ip_dict\n",
    "ol.download()\n",
    "conv=ol.Conv_0\n",
    "pool=ol.Pool_0\n",
    "print(\"Overlay download finish\");"
   ]
  },
  {
   "cell_type": "code",
   "execution_count": null,
   "id": "7a22e79f",
   "metadata": {},
   "outputs": [],
   "source": [
    "import time\n",
    "# i= 20\n",
    "W = np.arange(9).reshape(3,3,1,1)\n",
    "size = 10\n",
    "X = np.arange(size*size).reshape(size,size,1,1)\n",
    "Bias = np.zeros(1)\n",
    "# feature_out = allocate(shape=(640,640,32),cacheable=0,dtype=np.float32)\n",
    "x = allocate(shape=(size,size,1,1),cacheable=0,dtype=np.float32)\n",
    "w = allocate(shape=(3,3,1,1),cacheable=0,dtype=np.float32)\n",
    "bias = allocate(shape=(1,),cacheable=0,dtype=np.float32)\n",
    "out_size = int(size-3+1)\n",
    "feature_out = allocate(shape=(out_size,out_size,1),cacheable=0,dtype=np.float32)\n",
    "np.copyto(w,W)\n",
    "np.copyto(x,X)\n",
    "np.copyto(bias,Bias)\n",
    "# pic_2 = pic\n",
    "mode = 0\n",
    "relu_en = 0\n",
    "s = time.time()\n",
    "RunConv(conv,3,3,1,1,mode,relu_en,x,w,bias,feature_out)\n",
    "e = time.time()\n",
    "print(\"When run in PL with input size ={},take {:.4f}s.\".format(X.shape,e-s))"
   ]
  },
  {
   "cell_type": "code",
   "execution_count": null,
   "id": "155b92cb",
   "metadata": {
    "scrolled": true
   },
   "outputs": [],
   "source": [
    "feature_out"
   ]
  },
  {
   "cell_type": "code",
   "execution_count": null,
   "id": "812ba2ec",
   "metadata": {},
   "outputs": [],
   "source": [
    "conv_ps = torch.nn.Conv2d(1, 1, kernel_size=3, stride=1, padding=0, groups=1, bias=False)\n",
    "conv_ps.weight.data = torch.from_numpy(np.arange(9).reshape(1,1,3,3)*1.0)\n",
    "x = torch.from_numpy(np.arange(size*size).reshape(1,1,size,size)*1.0)\n",
    "s = time.time()\n",
    "b = conv_ps(x)\n",
    "e = time.time()\n",
    "print(\"When run in PS with input size ={},take {:.4f}s.\".format(X.shape,e-s))\n",
    "# print(e-s)"
   ]
  }
 ],
 "metadata": {
  "kernelspec": {
   "display_name": "Python 3",
   "language": "python",
   "name": "python3"
  },
  "language_info": {
   "codemirror_mode": {
    "name": "ipython",
    "version": 3
   },
   "file_extension": ".py",
   "mimetype": "text/x-python",
   "name": "python",
   "nbconvert_exporter": "python",
   "pygments_lexer": "ipython3",
   "version": "3.8.2"
  }
 },
 "nbformat": 4,
 "nbformat_minor": 5
}
